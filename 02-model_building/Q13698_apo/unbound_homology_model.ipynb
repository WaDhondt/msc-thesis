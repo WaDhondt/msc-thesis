{
 "cells": [
  {
   "cell_type": "code",
   "execution_count": 1,
   "metadata": {},
   "outputs": [
    {
     "name": "stdout",
     "output_type": "stream",
     "text": [
      "\n",
      "                         MODELLER 10.4, 2022/10/28, r12463\n",
      "\n",
      "     PROTEIN STRUCTURE MODELLING BY SATISFACTION OF SPATIAL RESTRAINTS\n",
      "\n",
      "\n",
      "                     Copyright(c) 1989-2022 Andrej Sali\n",
      "                            All Rights Reserved\n",
      "\n",
      "                             Written by A. Sali\n",
      "                               with help from\n",
      "              B. Webb, M.S. Madhusudhan, M-Y. Shen, G.Q. Dong,\n",
      "          M.A. Marti-Renom, N. Eswar, F. Alber, M. Topf, B. Oliva,\n",
      "             A. Fiser, R. Sanchez, B. Yerkovich, A. Badretdinov,\n",
      "                     F. Melo, J.P. Overington, E. Feyfant\n",
      "                 University of California, San Francisco, USA\n",
      "                    Rockefeller University, New York, USA\n",
      "                      Harvard University, Cambridge, USA\n",
      "                   Imperial Cancer Research Fund, London, UK\n",
      "              Birkbeck College, University of London, London, UK\n",
      "\n",
      "\n",
      "Kind, OS, HostName, Kernel, Processor: 4, Darwin w248h051.wireless.ugent.be 22.6.0 arm64\n",
      "Date and time of compilation         : 2022/10/28 13:23:21\n",
      "MODELLER executable type             : mac12arm64-gnu\n",
      "Job starting time (YY/MM/DD HH:MM:SS): 2023/09/27 14:06:46\n",
      "\n"
     ]
    }
   ],
   "source": [
    "# Comparative modeling by the automodel class\n",
    "from modeller import *              # Load standard Modeller classes\n",
    "from modeller.automodel import *    # Load the automodel class\n",
    "import os\n",
    "import sys\n",
    "\n",
    "# Make modeller environment\n",
    "env = Environ()\n",
    "env.io.atom_files_directory = ['.']\n",
    "# Read in HETATM from template PDB (ligand)\n",
    "env.io.hetatm = False"
   ]
  },
  {
   "cell_type": "code",
   "execution_count": 2,
   "metadata": {},
   "outputs": [],
   "source": [
    "import shutil\n",
    "source_directory = '.'\n",
    "destination_directory = 'second_run'\n",
    "if not os.path.exists(destination_directory):\n",
    "    os.makedirs(destination_directory)\n",
    "files_before = os.listdir(source_directory)"
   ]
  },
  {
   "cell_type": "code",
   "execution_count": 3,
   "metadata": {},
   "outputs": [],
   "source": [
    "# Define vars\n",
    "pdb_code='6jp5_A'\n",
    "target_uniprot_code='Q13698'\n",
    "aln_filename=f'{pdb_code}-{target_uniprot_code}.ali'"
   ]
  },
  {
   "cell_type": "code",
   "execution_count": 5,
   "metadata": {},
   "outputs": [
    {
     "name": "stdout",
     "output_type": "stream",
     "text": [
      "\n",
      "SALIGN_____> adding the next group to the alignment; iteration    1\n"
     ]
    }
   ],
   "source": [
    "# align target sequence to known, save file\n",
    "aln = Alignment(env)\n",
    "mdl = Model(env, file=f'./{pdb_code}.pdb')\n",
    "aln.append_model(mdl=mdl, align_codes=pdb_code)\n",
    "aln.append(file = f'./{target_uniprot_code}.fasta', align_codes=target_uniprot_code)\n",
    "aln.salign()\n",
    "aln.write(file=aln_filename, alignment_format='PIR')"
   ]
  },
  {
   "cell_type": "code",
   "execution_count": 7,
   "metadata": {},
   "outputs": [],
   "source": [
    "%%capture captured_output\n",
    "\n",
    "# Do comparative modeling using AutoModel class\n",
    "log.verbose()\n",
    "a = AutoModel(env,\n",
    "              alnfile=aln_filename,\n",
    "              knowns=pdb_code,\n",
    "              sequence=target_uniprot_code, \n",
    "              assess_methods=(assess.DOPE))\n",
    "a.starting_model=1\n",
    "a.ending_model=20\n",
    "a.make()\n",
    "\n",
    "%%writefile modeller-log.log\n",
    "print(captured_output.stdout)"
   ]
  },
  {
   "cell_type": "code",
   "execution_count": 8,
   "metadata": {},
   "outputs": [
    {
     "name": "stdout",
     "output_type": "stream",
     "text": [
      "Top model: Q13698.B99990006.pdb (DOPE score -171340.641)\n"
     ]
    }
   ],
   "source": [
    "# Get a list of all successfully built models from a.outputs\n",
    "ok_models = [x for x in a.outputs if x['failure'] is None]\n",
    "\n",
    "# Rank the models by DOPE score\n",
    "key = 'DOPE score'\n",
    "if sys.version_info[:2] == (2,3):\n",
    "    ok_models.sort(key=lambda a,b: (a[key], b[key]))\n",
    "else:\n",
    "    ok_models.sort(key=lambda a: a[key])\n",
    "\n",
    "# Get top model\n",
    "m = ok_models[0]\n",
    "print(\"Top model: %s (DOPE score %.3f)\" % (m['name'], m[key]))"
   ]
  },
  {
   "cell_type": "code",
   "execution_count": 9,
   "metadata": {},
   "outputs": [],
   "source": [
    "files_after = os.listdir(source_directory)\n",
    "for file in files_after:\n",
    "    if file not in files_before:\n",
    "        source_file_path = os.path.join(source_directory, file)\n",
    "        destination_file_path = os.path.join(destination_directory, file)\n",
    "        # Move the file to the destination directory\n",
    "        shutil.move(source_file_path, destination_file_path)"
   ]
  }
 ],
 "metadata": {
  "kernelspec": {
   "display_name": "Python 3",
   "language": "python",
   "name": "python3"
  },
  "language_info": {
   "codemirror_mode": {
    "name": "ipython",
    "version": 3
   },
   "file_extension": ".py",
   "mimetype": "text/x-python",
   "name": "python",
   "nbconvert_exporter": "python",
   "pygments_lexer": "ipython3",
   "version": "3.11.5"
  },
  "orig_nbformat": 4
 },
 "nbformat": 4,
 "nbformat_minor": 2
}
